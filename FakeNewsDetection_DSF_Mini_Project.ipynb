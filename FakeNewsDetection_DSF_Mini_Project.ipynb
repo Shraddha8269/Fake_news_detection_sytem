{
 "cells": [
  {
   "cell_type": "code",
   "execution_count": 32,
   "metadata": {},
   "outputs": [],
   "source": [
    "import gensim\n",
    "import pandas as pd\n",
    "import numpy as np\n",
    "from nltk import word_tokenize\n",
    "from nltk import download\n",
    "from nltk.corpus import stopwords\n",
    "from sklearn.metrics import f1_score\n",
    "from sklearn.metrics import accuracy_score,confusion_matrix,plot_confusion_matrix\n",
    "from sklearn.model_selection import train_test_split\n",
    "from gensim.scripts.glove2word2vec import glove2word2vec\n",
    "from gensim.models.keyedvectors import KeyedVectors\n",
    "from matplotlib import pyplot as plt\n",
    "import itertools\n",
    "import seaborn as sns"
   ]
  },
  {
   "cell_type": "code",
   "execution_count": 33,
   "metadata": {},
   "outputs": [],
   "source": [
    "file = \"F:\\PROJECT DSF\\Fake_new_detction\\glove.6B.50d.txt\"\n",
    "glove2word2vec(glove_input_file=file, word2vec_output_file=\"gensim_glove_vectors.txt\")\n",
    " \n",
    "###Finally, read the word2vec txt to a gensim model using KeyedVectors:\n",
    " \n",
    "glove_model = KeyedVectors.load_word2vec_format(\"gensim_glove_vectors.txt\", binary=False)"
   ]
  },
  {
   "cell_type": "code",
   "execution_count": 34,
   "metadata": {},
   "outputs": [],
   "source": [
    "data_fake = pd.read_csv('F:\\PROJECT DSF\\Fake_new_detction\\politifact_fake.csv')\n",
    "data_real = pd.read_csv('F:\\PROJECT DSF\\Fake_new_detction\\politifact_real.csv')"
   ]
  },
  {
   "cell_type": "code",
   "execution_count": 35,
   "metadata": {},
   "outputs": [
    {
     "data": {
      "text/html": [
       "<div>\n",
       "<style scoped>\n",
       "    .dataframe tbody tr th:only-of-type {\n",
       "        vertical-align: middle;\n",
       "    }\n",
       "\n",
       "    .dataframe tbody tr th {\n",
       "        vertical-align: top;\n",
       "    }\n",
       "\n",
       "    .dataframe thead th {\n",
       "        text-align: right;\n",
       "    }\n",
       "</style>\n",
       "<table border=\"1\" class=\"dataframe\">\n",
       "  <thead>\n",
       "    <tr style=\"text-align: right;\">\n",
       "      <th></th>\n",
       "      <th>id</th>\n",
       "      <th>news_url</th>\n",
       "      <th>title</th>\n",
       "      <th>tweet_ids</th>\n",
       "    </tr>\n",
       "  </thead>\n",
       "  <tbody>\n",
       "    <tr>\n",
       "      <th>0</th>\n",
       "      <td>politifact15014</td>\n",
       "      <td>speedtalk.com/forum/viewtopic.php?t=51650</td>\n",
       "      <td>BREAKING: First NFL Team Declares Bankruptcy O...</td>\n",
       "      <td>937349434668498944\\t937379378006282240\\t937380...</td>\n",
       "    </tr>\n",
       "    <tr>\n",
       "      <th>1</th>\n",
       "      <td>politifact15156</td>\n",
       "      <td>politics2020.info/index.php/2018/03/13/court-o...</td>\n",
       "      <td>Court Orders Obama To Pay $400 Million In Rest...</td>\n",
       "      <td>972666281441878016\\t972678396575559680\\t972827...</td>\n",
       "    </tr>\n",
       "    <tr>\n",
       "      <th>2</th>\n",
       "      <td>politifact14745</td>\n",
       "      <td>www.nscdscamps.org/blog/category/parenting/467...</td>\n",
       "      <td>UPDATE: Second Roy Moore Accuser Works For Mic...</td>\n",
       "      <td>929405740732870656\\t929439450400264192\\t929439...</td>\n",
       "    </tr>\n",
       "    <tr>\n",
       "      <th>3</th>\n",
       "      <td>politifact14355</td>\n",
       "      <td>https://howafrica.com/oscar-pistorius-attempts...</td>\n",
       "      <td>Oscar Pistorius Attempts To Commit Suicide</td>\n",
       "      <td>886941526458347521\\t887011300278194176\\t887023...</td>\n",
       "    </tr>\n",
       "    <tr>\n",
       "      <th>4</th>\n",
       "      <td>politifact15371</td>\n",
       "      <td>http://washingtonsources.org/trump-votes-for-d...</td>\n",
       "      <td>Trump Votes For Death Penalty For Being Gay</td>\n",
       "      <td>915205698212040704\\t915242076681506816\\t915249...</td>\n",
       "    </tr>\n",
       "  </tbody>\n",
       "</table>\n",
       "</div>"
      ],
      "text/plain": [
       "                id                                           news_url  \\\n",
       "0  politifact15014          speedtalk.com/forum/viewtopic.php?t=51650   \n",
       "1  politifact15156  politics2020.info/index.php/2018/03/13/court-o...   \n",
       "2  politifact14745  www.nscdscamps.org/blog/category/parenting/467...   \n",
       "3  politifact14355  https://howafrica.com/oscar-pistorius-attempts...   \n",
       "4  politifact15371  http://washingtonsources.org/trump-votes-for-d...   \n",
       "\n",
       "                                               title  \\\n",
       "0  BREAKING: First NFL Team Declares Bankruptcy O...   \n",
       "1  Court Orders Obama To Pay $400 Million In Rest...   \n",
       "2  UPDATE: Second Roy Moore Accuser Works For Mic...   \n",
       "3         Oscar Pistorius Attempts To Commit Suicide   \n",
       "4        Trump Votes For Death Penalty For Being Gay   \n",
       "\n",
       "                                           tweet_ids  \n",
       "0  937349434668498944\\t937379378006282240\\t937380...  \n",
       "1  972666281441878016\\t972678396575559680\\t972827...  \n",
       "2  929405740732870656\\t929439450400264192\\t929439...  \n",
       "3  886941526458347521\\t887011300278194176\\t887023...  \n",
       "4  915205698212040704\\t915242076681506816\\t915249...  "
      ]
     },
     "execution_count": 35,
     "metadata": {},
     "output_type": "execute_result"
    }
   ],
   "source": [
    "data_fake.head()"
   ]
  },
  {
   "cell_type": "code",
   "execution_count": 36,
   "metadata": {},
   "outputs": [
    {
     "data": {
      "text/html": [
       "<div>\n",
       "<style scoped>\n",
       "    .dataframe tbody tr th:only-of-type {\n",
       "        vertical-align: middle;\n",
       "    }\n",
       "\n",
       "    .dataframe tbody tr th {\n",
       "        vertical-align: top;\n",
       "    }\n",
       "\n",
       "    .dataframe thead th {\n",
       "        text-align: right;\n",
       "    }\n",
       "</style>\n",
       "<table border=\"1\" class=\"dataframe\">\n",
       "  <thead>\n",
       "    <tr style=\"text-align: right;\">\n",
       "      <th></th>\n",
       "      <th>id</th>\n",
       "      <th>news_url</th>\n",
       "      <th>title</th>\n",
       "      <th>tweet_ids</th>\n",
       "    </tr>\n",
       "  </thead>\n",
       "  <tbody>\n",
       "    <tr>\n",
       "      <th>0</th>\n",
       "      <td>politifact14984</td>\n",
       "      <td>http://www.nfib-sbet.org/</td>\n",
       "      <td>National Federation of Independent Business</td>\n",
       "      <td>967132259869487105\\t967164368768196609\\t967215...</td>\n",
       "    </tr>\n",
       "    <tr>\n",
       "      <th>1</th>\n",
       "      <td>politifact12944</td>\n",
       "      <td>http://www.cq.com/doc/newsmakertranscripts-494...</td>\n",
       "      <td>comments in Fayetteville NC</td>\n",
       "      <td>942953459\\t8980098198\\t16253717352\\t1668513250...</td>\n",
       "    </tr>\n",
       "    <tr>\n",
       "      <th>2</th>\n",
       "      <td>politifact333</td>\n",
       "      <td>https://web.archive.org/web/20080204072132/htt...</td>\n",
       "      <td>Romney makes pitch, hoping to close deal : Ele...</td>\n",
       "      <td>NaN</td>\n",
       "    </tr>\n",
       "    <tr>\n",
       "      <th>3</th>\n",
       "      <td>politifact4358</td>\n",
       "      <td>https://web.archive.org/web/20110811143753/htt...</td>\n",
       "      <td>Democratic Leaders Say House Democrats Are Uni...</td>\n",
       "      <td>NaN</td>\n",
       "    </tr>\n",
       "    <tr>\n",
       "      <th>4</th>\n",
       "      <td>politifact779</td>\n",
       "      <td>https://web.archive.org/web/20070820164107/htt...</td>\n",
       "      <td>Budget of the United States Government, FY 2008</td>\n",
       "      <td>89804710374154240\\t91270460595109888\\t96039619...</td>\n",
       "    </tr>\n",
       "  </tbody>\n",
       "</table>\n",
       "</div>"
      ],
      "text/plain": [
       "                id                                           news_url  \\\n",
       "0  politifact14984                          http://www.nfib-sbet.org/   \n",
       "1  politifact12944  http://www.cq.com/doc/newsmakertranscripts-494...   \n",
       "2    politifact333  https://web.archive.org/web/20080204072132/htt...   \n",
       "3   politifact4358  https://web.archive.org/web/20110811143753/htt...   \n",
       "4    politifact779  https://web.archive.org/web/20070820164107/htt...   \n",
       "\n",
       "                                               title  \\\n",
       "0        National Federation of Independent Business   \n",
       "1                        comments in Fayetteville NC   \n",
       "2  Romney makes pitch, hoping to close deal : Ele...   \n",
       "3  Democratic Leaders Say House Democrats Are Uni...   \n",
       "4    Budget of the United States Government, FY 2008   \n",
       "\n",
       "                                           tweet_ids  \n",
       "0  967132259869487105\\t967164368768196609\\t967215...  \n",
       "1  942953459\\t8980098198\\t16253717352\\t1668513250...  \n",
       "2                                                NaN  \n",
       "3                                                NaN  \n",
       "4  89804710374154240\\t91270460595109888\\t96039619...  "
      ]
     },
     "execution_count": 36,
     "metadata": {},
     "output_type": "execute_result"
    }
   ],
   "source": [
    "data_real.head()\n"
   ]
  },
  {
   "cell_type": "code",
   "execution_count": 37,
   "metadata": {},
   "outputs": [],
   "source": [
    "t=pd.DataFrame(data_real.title)\n",
    "t['result']=0\n",
    "r=pd.DataFrame(data_fake.title)\n",
    "r['result']=1\n",
    "s=t.append(r)\n",
    "y1=s.dropna()\n",
    "texts=y1['title']\n",
    "y=y1['result']"
   ]
  },
  {
   "cell_type": "code",
   "execution_count": 38,
   "metadata": {},
   "outputs": [
    {
     "data": {
      "text/html": [
       "<div>\n",
       "<style scoped>\n",
       "    .dataframe tbody tr th:only-of-type {\n",
       "        vertical-align: middle;\n",
       "    }\n",
       "\n",
       "    .dataframe tbody tr th {\n",
       "        vertical-align: top;\n",
       "    }\n",
       "\n",
       "    .dataframe thead th {\n",
       "        text-align: right;\n",
       "    }\n",
       "</style>\n",
       "<table border=\"1\" class=\"dataframe\">\n",
       "  <thead>\n",
       "    <tr style=\"text-align: right;\">\n",
       "      <th></th>\n",
       "      <th>title</th>\n",
       "      <th>result</th>\n",
       "    </tr>\n",
       "  </thead>\n",
       "  <tbody>\n",
       "    <tr>\n",
       "      <th>0</th>\n",
       "      <td>National Federation of Independent Business</td>\n",
       "      <td>0</td>\n",
       "    </tr>\n",
       "    <tr>\n",
       "      <th>1</th>\n",
       "      <td>comments in Fayetteville NC</td>\n",
       "      <td>0</td>\n",
       "    </tr>\n",
       "    <tr>\n",
       "      <th>2</th>\n",
       "      <td>Romney makes pitch, hoping to close deal : Ele...</td>\n",
       "      <td>0</td>\n",
       "    </tr>\n",
       "    <tr>\n",
       "      <th>3</th>\n",
       "      <td>Democratic Leaders Say House Democrats Are Uni...</td>\n",
       "      <td>0</td>\n",
       "    </tr>\n",
       "    <tr>\n",
       "      <th>4</th>\n",
       "      <td>Budget of the United States Government, FY 2008</td>\n",
       "      <td>0</td>\n",
       "    </tr>\n",
       "    <tr>\n",
       "      <th>...</th>\n",
       "      <td>...</td>\n",
       "      <td>...</td>\n",
       "    </tr>\n",
       "    <tr>\n",
       "      <th>427</th>\n",
       "      <td>Who is affected by the government shutdown?</td>\n",
       "      <td>1</td>\n",
       "    </tr>\n",
       "    <tr>\n",
       "      <th>428</th>\n",
       "      <td>Lindsey Graham Threatens To Convert To Democra...</td>\n",
       "      <td>1</td>\n",
       "    </tr>\n",
       "    <tr>\n",
       "      <th>429</th>\n",
       "      <td>ELECTORAL COLLEGE ELECTOR COMMITS SUICIDE TO A...</td>\n",
       "      <td>1</td>\n",
       "    </tr>\n",
       "    <tr>\n",
       "      <th>430</th>\n",
       "      <td>Sarah Palin Calls To Boycott Mall Of America B...</td>\n",
       "      <td>1</td>\n",
       "    </tr>\n",
       "    <tr>\n",
       "      <th>431</th>\n",
       "      <td>Account Suspended</td>\n",
       "      <td>1</td>\n",
       "    </tr>\n",
       "  </tbody>\n",
       "</table>\n",
       "<p>1056 rows × 2 columns</p>\n",
       "</div>"
      ],
      "text/plain": [
       "                                                 title  result\n",
       "0          National Federation of Independent Business       0\n",
       "1                          comments in Fayetteville NC       0\n",
       "2    Romney makes pitch, hoping to close deal : Ele...       0\n",
       "3    Democratic Leaders Say House Democrats Are Uni...       0\n",
       "4      Budget of the United States Government, FY 2008       0\n",
       "..                                                 ...     ...\n",
       "427        Who is affected by the government shutdown?       1\n",
       "428  Lindsey Graham Threatens To Convert To Democra...       1\n",
       "429  ELECTORAL COLLEGE ELECTOR COMMITS SUICIDE TO A...       1\n",
       "430  Sarah Palin Calls To Boycott Mall Of America B...       1\n",
       "431                                  Account Suspended       1\n",
       "\n",
       "[1056 rows x 2 columns]"
      ]
     },
     "execution_count": 38,
     "metadata": {},
     "output_type": "execute_result"
    }
   ],
   "source": [
    "y1"
   ]
  },
  {
   "cell_type": "code",
   "execution_count": 39,
   "metadata": {},
   "outputs": [
    {
     "name": "stdout",
     "output_type": "stream",
     "text": [
      "result\n",
      "0    624\n",
      "1    432\n",
      "Name: title, dtype: int64\n"
     ]
    },
    {
     "data": {
      "image/png": "[encoded data removed]",
      "text/plain": [
       "<Figure size 432x288 with 1 Axes>"
      ]
     },
     "metadata": {
      "needs_background": "light"
     },
     "output_type": "display_data"
    }
   ],
   "source": [
    "print(y1.groupby(['result'])['title'].count())\n",
    "y1.groupby(['result'])['title'].count().plot(kind=\"bar\")\n",
    "plt.show()"
   ]
  },
  {
   "cell_type": "code",
   "execution_count": 40,
   "metadata": {},
   "outputs": [
    {
     "data": {
      "text/plain": [
       "0    0\n",
       "1    0\n",
       "2    0\n",
       "3    0\n",
       "4    0\n",
       "Name: result, dtype: int64"
      ]
     },
     "execution_count": 40,
     "metadata": {},
     "output_type": "execute_result"
    }
   ],
   "source": [
    "y.head()\n"
   ]
  },
  {
   "cell_type": "code",
   "execution_count": 41,
   "metadata": {},
   "outputs": [],
   "source": [
    "stop_words = stopwords.words('english')\n",
    "\n",
    "def preprocess(text):\n",
    "    text = text.lower()\n",
    "    doc = word_tokenize(text)\n",
    "    doc = [word for word in doc if word not in stop_words]\n",
    "    doc = [word for word in doc if word.isalpha()] #restricts string to alphabetic characters only\n",
    "    return doc"
   ]
  },
  {
   "cell_type": "code",
   "execution_count": 42,
   "metadata": {},
   "outputs": [],
   "source": [
    "corpus=[preprocess(text) for text in texts]"
   ]
  },
  {
   "cell_type": "code",
   "execution_count": 43,
   "metadata": {},
   "outputs": [],
   "source": [
    "def filter_docs(corpus, texts, labels, condition_on_doc):\n",
    "    \"\"\"\n",
    "    Filter corpus, texts and labels given the function condition_on_doc which takes\n",
    "    a doc.\n",
    "    The document doc is kept if condition_on_doc(doc) is true.\n",
    "    \"\"\"\n",
    "    number_of_docs = len(corpus)\n",
    "\n",
    "    if texts is not None:\n",
    "        texts = [text for (text, doc) in zip(texts, corpus)\n",
    "                 if condition_on_doc(doc)]\n",
    "\n",
    "    labels = [i for (i, doc) in zip(labels, corpus) if condition_on_doc(doc)]\n",
    "    corpus = [doc for doc in corpus if condition_on_doc(doc)]\n",
    "\n",
    "    print(\"{} docs removed\".format(number_of_docs - len(corpus)))\n",
    "\n",
    "    return (corpus, texts, labels)"
   ]
  },
  {
   "cell_type": "code",
   "execution_count": 44,
   "metadata": {},
   "outputs": [],
   "source": [
    "def document_vector(word2vec_model, doc):\n",
    "    # remove out-of-vocabulary words\n",
    "    doc = [word for word in doc if word in word2vec_model.vocab]\n",
    "    return np.mean(word2vec_model[doc], axis=0)"
   ]
  },
  {
   "cell_type": "code",
   "execution_count": 45,
   "metadata": {},
   "outputs": [],
   "source": [
    "def has_vector_representation(word2vec_model, doc):\n",
    "    \"\"\"check if at least one word of the document is in the\n",
    "    word2vec dictionary\"\"\"\n",
    "    return not all(word not in word2vec_model.vocab for word in doc)"
   ]
  },
  {
   "cell_type": "code",
   "execution_count": 46,
   "metadata": {},
   "outputs": [
    {
     "name": "stdout",
     "output_type": "stream",
     "text": [
      "15 docs removed\n"
     ]
    }
   ],
   "source": [
    "corpus, texts, y = filter_docs(corpus, texts, y, lambda doc: has_vector_representation(glove_model, doc))"
   ]
  },
  {
   "cell_type": "code",
   "execution_count": 47,
   "metadata": {},
   "outputs": [],
   "source": [
    "x =[]\n",
    "for doc in corpus: #look up each doc in model\n",
    "    x.append(document_vector(glove_model, doc))"
   ]
  },
  {
   "cell_type": "code",
   "execution_count": 48,
   "metadata": {},
   "outputs": [],
   "source": [
    "#Apply Logistic regression"
   ]
  },
  {
   "cell_type": "code",
   "execution_count": 49,
   "metadata": {},
   "outputs": [],
   "source": [
    "from sklearn.linear_model import LogisticRegression"
   ]
  },
  {
   "cell_type": "code",
   "execution_count": 50,
   "metadata": {},
   "outputs": [],
   "source": [
    "x_train, x_test, y_train, y_test = train_test_split(x, y, test_size=0.3, random_state=42)"
   ]
  },
  {
   "cell_type": "code",
   "execution_count": 51,
   "metadata": {},
   "outputs": [
    {
     "name": "stdout",
     "output_type": "stream",
     "text": [
      "Accuracy_LR: 0.8306709265175719\n",
      "F1_Score_LR: 0.7782426778242678\n"
     ]
    }
   ],
   "source": [
    "model = LogisticRegression()\n",
    "model.fit(x_train, y_train) \n",
    "y_pred = model.predict(x_test)\n",
    "Accuracy_LR=accuracy_score(y_test, y_pred)\n",
    "F1_Score_LR=f1_score(y_test,y_pred)\n",
    "print( \"Accuracy_LR:\",accuracy_score(y_test, y_pred))\n",
    "print(\"F1_Score_LR:\",f1_score(y_test,y_pred))"
   ]
  },
  {
   "cell_type": "code",
   "execution_count": 52,
   "metadata": {},
   "outputs": [],
   "source": [
    "def plot_confusion_matrix(cm, classes,normalize=False,title='Confusion matrix',cmap=plt.cm.Blues):\n",
    "    \n",
    "    plt.imshow(cm, interpolation='nearest', cmap=cmap)\n",
    "    plt.title(title)\n",
    "    plt.colorbar()\n",
    "    tick_marks = np.arange(len(classes))\n",
    "    plt.xticks(tick_marks, classes, rotation=45)\n",
    "    plt.yticks(tick_marks, classes)\n",
    "    if normalize:\n",
    "        cm = cm.astype('float') / cm.sum(axis=1)[:, np.newaxis]\n",
    "        print(\"Normalized confusion matrix\")\n",
    "    else:\n",
    "        print('Confusion matrix, without normalization')\n",
    "        thresh = cm.max() / 2.\n",
    "        for i, j in itertools.product(range(cm.shape[0]), range(cm.shape[1])):\n",
    "            plt.text(j, i, cm[i, j],horizontalalignment=\"center\",color=\"white\" if cm[i, j] > thresh else \"black\")\n",
    "    plt.tight_layout()\n",
    "    plt.ylabel('True label')\n",
    "    plt.xlabel('Predicted label')"
   ]
  },
  {
   "cell_type": "code",
   "execution_count": 53,
   "metadata": {},
   "outputs": [
    {
     "name": "stdout",
     "output_type": "stream",
     "text": [
      "Confusion matrix, without normalization\n"
     ]
    },
    {
     "data": {
      "image/png": "[encoded data removed]",
      "text/plain": [
       "<Figure size 432x288 with 2 Axes>"
      ]
     },
     "metadata": {
      "needs_background": "light"
     },
     "output_type": "display_data"
    }
   ],
   "source": [
    "cm = confusion_matrix(y_test, y_pred)\n",
    "plot_confusion_matrix(cm, classes=['Fake', 'Real'])"
   ]
  },
  {
   "cell_type": "code",
   "execution_count": 55,
   "metadata": {},
   "outputs": [],
   "source": [
    "#Apply NaiveBases"
   ]
  },
  {
   "cell_type": "code",
   "execution_count": 56,
   "metadata": {},
   "outputs": [],
   "source": [
    "from sklearn.naive_bayes import GaussianNB"
   ]
  },
  {
   "cell_type": "code",
   "execution_count": 57,
   "metadata": {},
   "outputs": [
    {
     "name": "stdout",
     "output_type": "stream",
     "text": [
      "Accuracy_BAYES: 0.8115015974440895\n",
      "F1_Score_BAYES: 0.7686274509803922\n"
     ]
    }
   ],
   "source": [
    "#Create a Gaussian Classifier\n",
    "gnb = GaussianNB()\n",
    "\n",
    "#Train the model using the training sets\n",
    "gnb.fit(x_train, y_train)\n",
    "\n",
    "#Predict the response for test dataset\n",
    "y_pred = gnb.predict(x_test)\n",
    "Accuracy_BAYES=accuracy_score(y_test, y_pred)\n",
    "F1_Score_BAYES=f1_score(y_test,y_pred)\n",
    "print(\"Accuracy_BAYES:\",accuracy_score(y_test, y_pred))\n",
    "print(\"F1_Score_BAYES:\",f1_score(y_test,y_pred))"
   ]
  },
  {
   "cell_type": "code",
   "execution_count": 58,
   "metadata": {},
   "outputs": [
    {
     "name": "stdout",
     "output_type": "stream",
     "text": [
      "Confusion matrix, without normalization\n"
     ]
    },
    {
     "data": {
      "image/png": "[encoded data removed]",
      "text/plain": [
       "<Figure size 432x288 with 2 Axes>"
      ]
     },
     "metadata": {
      "needs_background": "light"
     },
     "output_type": "display_data"
    }
   ],
   "source": [
    "cm = confusion_matrix(y_test, y_pred)\n",
    "plot_confusion_matrix(cm, classes=['Fake', 'Real'])"
   ]
  },
  {
   "cell_type": "code",
   "execution_count": 59,
   "metadata": {},
   "outputs": [],
   "source": [
    "#Apply SVM"
   ]
  },
  {
   "cell_type": "code",
   "execution_count": 60,
   "metadata": {},
   "outputs": [],
   "source": [
    "from sklearn.svm import SVC"
   ]
  },
  {
   "cell_type": "code",
   "execution_count": 61,
   "metadata": {},
   "outputs": [
    {
     "name": "stdout",
     "output_type": "stream",
     "text": [
      "Accuracy_SVM: 0.8210862619808307\n",
      "F1_Score_SVM: 0.7647058823529412\n"
     ]
    }
   ],
   "source": [
    "svclassifier = SVC(kernel='linear')\n",
    "svclassifier.fit(x_train, y_train)\n",
    "y_pred = svclassifier.predict(x_test)\n",
    "Accuracy_SVM=accuracy_score(y_test, y_pred)\n",
    "F1_Score_SVM=f1_score(y_test,y_pred)\n",
    "print(\"Accuracy_SVM:\",accuracy_score(y_test, y_pred))\n",
    "print(\"F1_Score_SVM:\",f1_score(y_test,y_pred))"
   ]
  },
  {
   "cell_type": "code",
   "execution_count": 62,
   "metadata": {},
   "outputs": [
    {
     "name": "stdout",
     "output_type": "stream",
     "text": [
      "Confusion matrix, without normalization\n"
     ]
    },
    {
     "data": {
      "image/png": "[encoded data removed]",
      "text/plain": [
       "<Figure size 432x288 with 2 Axes>"
      ]
     },
     "metadata": {
      "needs_background": "light"
     },
     "output_type": "display_data"
    }
   ],
   "source": [
    "cm = confusion_matrix(y_test, y_pred)\n",
    "plot_confusion_matrix(cm, classes=['Fake', 'Real'])"
   ]
  },
  {
   "cell_type": "code",
   "execution_count": 63,
   "metadata": {},
   "outputs": [
    {
     "name": "stdout",
     "output_type": "stream",
     "text": [
      "MODELS\t\t\tACCURACY\t\tF1-SCORE\n",
      "____________________________________________________________\n",
      "LOGISTIC REGRESSION  0.8306709265175719   0.7782426778242678\n",
      "____________________________________________________________\n",
      "Naive Baysian\t     0.8115015974440895   0.7686274509803922\n",
      "____________________________________________________________\n",
      "SVM\t\t     0.8210862619808307   0.7647058823529412\n"
     ]
    }
   ],
   "source": [
    "#Comparision:\n",
    "print(\"MODELS\\t\\t\\tACCURACY\\t\\tF1-SCORE\")\n",
    "print(\"____________________________________________________________\")\n",
    "print(\"LOGISTIC REGRESSION \", Accuracy_LR,\" \",F1_Score_LR)\n",
    "print(\"____________________________________________________________\")\n",
    "print(\"Naive Baysian\\t    \", Accuracy_BAYES,\" \",F1_Score_BAYES)\n",
    "print(\"____________________________________________________________\")\n",
    "print(\"SVM\\t\\t    \", Accuracy_SVM,\" \",F1_Score_SVM)"
   ]
  }
 ],
 "metadata": {
  "kernelspec": {
   "display_name": "Python 3",
   "language": "python",
   "name": "python3"
  },
  "language_info": {
   "codemirror_mode": {
    "name": "ipython",
    "version": 3
   },
   "file_extension": ".py",
   "mimetype": "text/x-python",
   "name": "python",
   "nbconvert_exporter": "python",
   "pygments_lexer": "ipython3",
   "version": "3.8.3"
  }
 },
 "nbformat": 4,
 "nbformat_minor": 4
}
